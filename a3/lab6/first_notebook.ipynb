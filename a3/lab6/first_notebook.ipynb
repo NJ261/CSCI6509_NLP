{
 "cells": [
  {
   "cell_type": "code",
   "execution_count": 1,
   "metadata": {},
   "outputs": [
    {
     "name": "stdout",
     "output_type": "stream",
     "text": [
      "Three most common named entities are: \n",
      "U.S. : 215\n",
      "New York : 103\n",
      "Japanese : 87\n"
     ]
    }
   ],
   "source": [
    "from nltk import FreqDist\n",
    "# import treebank\n",
    "from nltk.corpus import treebank\n",
    "# import ne chunker\n",
    "from nltk import chunk, tag\n",
    "\n",
    "temp_list = [\"ORGANIZATION\", \"PERSON\", \"LOCATION\",\"DATE\",\"TIME\", \"MONEY\",\"PERCENT\", \"FACILITY\",\"GPE\"]\n",
    "data = treebank.tagged_words() # load treebank data\n",
    "chunkd_data = chunk.ne_chunk(data) # chunk the data\n",
    "chunkd_trees = chunkd_data.subtrees(filter=lambda t: t.label() in temp_list) # select subtrees which are NE\n",
    "\n",
    "word_fd = FreqDist([' '.join(word for word, pos in tree.leaves()) for tree in chunkd_trees])\n",
    "print (\"Three most common named entities are: \")\n",
    "\n",
    "for token, freq in word_fd.most_common(3):\n",
    "    print(\"%s : %d\"%(token, freq))"
   ]
  }
 ],
 "metadata": {
  "kernelspec": {
   "display_name": "Python 3",
   "language": "python",
   "name": "python3"
  },
  "language_info": {
   "codemirror_mode": {
    "name": "ipython",
    "version": 3
   },
   "file_extension": ".py",
   "mimetype": "text/x-python",
   "name": "python",
   "nbconvert_exporter": "python",
   "pygments_lexer": "ipython3",
   "version": "3.6.7"
  }
 },
 "nbformat": 4,
 "nbformat_minor": 2
}
